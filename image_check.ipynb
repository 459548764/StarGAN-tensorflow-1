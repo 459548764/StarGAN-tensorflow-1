{
 "cells": [
  {
   "cell_type": "code",
   "execution_count": 9,
   "metadata": {
    "collapsed": true
   },
   "outputs": [],
   "source": [
    "import os\n",
    "import matplotlib.pyplot as plt\n",
    "import scipy.misc\n",
    "import glob\n",
    "import re\n",
    "from IPython.display import HTML\n",
    "from ipywidgets import interact, interactive, fixed, interact_manual\n",
    "import ipywidgets as widgets\n",
    "%matplotlib inline  "
   ]
  },
  {
   "cell_type": "code",
   "execution_count": 10,
   "metadata": {
    "collapsed": true
   },
   "outputs": [],
   "source": [
    "def atoi(text):\n",
    "    return int(text) if text.isdigit() else text\n",
    "\n",
    "def natural_keys(text):\n",
    "    '''\n",
    "    alist.sort(key=natural_keys) sorts in human order\n",
    "    http://nedbatchelder.com/blog/200712/human_sorting.html\n",
    "    (See Toothy's implementation in the comments)\n",
    "    '''\n",
    "    return [ atoi(c) for c in re.split('(\\d+)', text) ]"
   ]
  },
  {
   "cell_type": "code",
   "execution_count": 65,
   "metadata": {},
   "outputs": [
    {
     "name": "stdout",
     "output_type": "stream",
     "text": [
      "Processing image\n",
      "Number: 79\n"
     ]
    },
    {
     "data": {
      "text/html": [
       "<html><body><table><tr><th>name</th><th>output</th></tr><td>000500.jpg<br>index: 0-th</td><td><img src='./assets/WGAN_label7/sample/000500.jpg'></td></tr><td>001000.jpg<br>index: 1-th</td><td><img src='./assets/WGAN_label7/sample/001000.jpg'></td></tr><td>001500.jpg<br>index: 2-th</td><td><img src='./assets/WGAN_label7/sample/001500.jpg'></td></tr><td>002000.jpg<br>index: 3-th</td><td><img src='./assets/WGAN_label7/sample/002000.jpg'></td></tr><td>002500.jpg<br>index: 4-th</td><td><img src='./assets/WGAN_label7/sample/002500.jpg'></td></tr><td>003000.jpg<br>index: 5-th</td><td><img src='./assets/WGAN_label7/sample/003000.jpg'></td></tr><td>003500.jpg<br>index: 6-th</td><td><img src='./assets/WGAN_label7/sample/003500.jpg'></td></tr><td>004000.jpg<br>index: 7-th</td><td><img src='./assets/WGAN_label7/sample/004000.jpg'></td></tr><td>004500.jpg<br>index: 8-th</td><td><img src='./assets/WGAN_label7/sample/004500.jpg'></td></tr><td>005000.jpg<br>index: 9-th</td><td><img src='./assets/WGAN_label7/sample/005000.jpg'></td></tr><td>005500.jpg<br>index: 10-th</td><td><img src='./assets/WGAN_label7/sample/005500.jpg'></td></tr><td>006000.jpg<br>index: 11-th</td><td><img src='./assets/WGAN_label7/sample/006000.jpg'></td></tr><td>006500.jpg<br>index: 12-th</td><td><img src='./assets/WGAN_label7/sample/006500.jpg'></td></tr><td>007000.jpg<br>index: 13-th</td><td><img src='./assets/WGAN_label7/sample/007000.jpg'></td></tr><td>007500.jpg<br>index: 14-th</td><td><img src='./assets/WGAN_label7/sample/007500.jpg'></td></tr><td>008000.jpg<br>index: 15-th</td><td><img src='./assets/WGAN_label7/sample/008000.jpg'></td></tr><td>008500.jpg<br>index: 16-th</td><td><img src='./assets/WGAN_label7/sample/008500.jpg'></td></tr><td>009000.jpg<br>index: 17-th</td><td><img src='./assets/WGAN_label7/sample/009000.jpg'></td></tr><td>009500.jpg<br>index: 18-th</td><td><img src='./assets/WGAN_label7/sample/009500.jpg'></td></tr><td>010000.jpg<br>index: 19-th</td><td><img src='./assets/WGAN_label7/sample/010000.jpg'></td></tr><td>010500.jpg<br>index: 20-th</td><td><img src='./assets/WGAN_label7/sample/010500.jpg'></td></tr><td>011000.jpg<br>index: 21-th</td><td><img src='./assets/WGAN_label7/sample/011000.jpg'></td></tr><td>011500.jpg<br>index: 22-th</td><td><img src='./assets/WGAN_label7/sample/011500.jpg'></td></tr><td>012000.jpg<br>index: 23-th</td><td><img src='./assets/WGAN_label7/sample/012000.jpg'></td></tr><td>012500.jpg<br>index: 24-th</td><td><img src='./assets/WGAN_label7/sample/012500.jpg'></td></tr><td>013000.jpg<br>index: 25-th</td><td><img src='./assets/WGAN_label7/sample/013000.jpg'></td></tr><td>013500.jpg<br>index: 26-th</td><td><img src='./assets/WGAN_label7/sample/013500.jpg'></td></tr><td>014000.jpg<br>index: 27-th</td><td><img src='./assets/WGAN_label7/sample/014000.jpg'></td></tr><td>014500.jpg<br>index: 28-th</td><td><img src='./assets/WGAN_label7/sample/014500.jpg'></td></tr><td>015000.jpg<br>index: 29-th</td><td><img src='./assets/WGAN_label7/sample/015000.jpg'></td></tr><td>015500.jpg<br>index: 30-th</td><td><img src='./assets/WGAN_label7/sample/015500.jpg'></td></tr><td>016000.jpg<br>index: 31-th</td><td><img src='./assets/WGAN_label7/sample/016000.jpg'></td></tr><td>016500.jpg<br>index: 32-th</td><td><img src='./assets/WGAN_label7/sample/016500.jpg'></td></tr><td>017000.jpg<br>index: 33-th</td><td><img src='./assets/WGAN_label7/sample/017000.jpg'></td></tr><td>017500.jpg<br>index: 34-th</td><td><img src='./assets/WGAN_label7/sample/017500.jpg'></td></tr><td>018000.jpg<br>index: 35-th</td><td><img src='./assets/WGAN_label7/sample/018000.jpg'></td></tr><td>018500.jpg<br>index: 36-th</td><td><img src='./assets/WGAN_label7/sample/018500.jpg'></td></tr><td>019000.jpg<br>index: 37-th</td><td><img src='./assets/WGAN_label7/sample/019000.jpg'></td></tr><td>019500.jpg<br>index: 38-th</td><td><img src='./assets/WGAN_label7/sample/019500.jpg'></td></tr><td>020000.jpg<br>index: 39-th</td><td><img src='./assets/WGAN_label7/sample/020000.jpg'></td></tr><td>020500.jpg<br>index: 40-th</td><td><img src='./assets/WGAN_label7/sample/020500.jpg'></td></tr><td>021000.jpg<br>index: 41-th</td><td><img src='./assets/WGAN_label7/sample/021000.jpg'></td></tr><td>021500.jpg<br>index: 42-th</td><td><img src='./assets/WGAN_label7/sample/021500.jpg'></td></tr><td>022000.jpg<br>index: 43-th</td><td><img src='./assets/WGAN_label7/sample/022000.jpg'></td></tr><td>022500.jpg<br>index: 44-th</td><td><img src='./assets/WGAN_label7/sample/022500.jpg'></td></tr><td>023000.jpg<br>index: 45-th</td><td><img src='./assets/WGAN_label7/sample/023000.jpg'></td></tr><td>023500.jpg<br>index: 46-th</td><td><img src='./assets/WGAN_label7/sample/023500.jpg'></td></tr><td>024000.jpg<br>index: 47-th</td><td><img src='./assets/WGAN_label7/sample/024000.jpg'></td></tr><td>024500.jpg<br>index: 48-th</td><td><img src='./assets/WGAN_label7/sample/024500.jpg'></td></tr><td>025000.jpg<br>index: 49-th</td><td><img src='./assets/WGAN_label7/sample/025000.jpg'></td></tr><td>025500.jpg<br>index: 50-th</td><td><img src='./assets/WGAN_label7/sample/025500.jpg'></td></tr><td>026000.jpg<br>index: 51-th</td><td><img src='./assets/WGAN_label7/sample/026000.jpg'></td></tr><td>026500.jpg<br>index: 52-th</td><td><img src='./assets/WGAN_label7/sample/026500.jpg'></td></tr><td>027000.jpg<br>index: 53-th</td><td><img src='./assets/WGAN_label7/sample/027000.jpg'></td></tr><td>027500.jpg<br>index: 54-th</td><td><img src='./assets/WGAN_label7/sample/027500.jpg'></td></tr><td>028000.jpg<br>index: 55-th</td><td><img src='./assets/WGAN_label7/sample/028000.jpg'></td></tr><td>028500.jpg<br>index: 56-th</td><td><img src='./assets/WGAN_label7/sample/028500.jpg'></td></tr><td>029000.jpg<br>index: 57-th</td><td><img src='./assets/WGAN_label7/sample/029000.jpg'></td></tr><td>029500.jpg<br>index: 58-th</td><td><img src='./assets/WGAN_label7/sample/029500.jpg'></td></tr><td>030000.jpg<br>index: 59-th</td><td><img src='./assets/WGAN_label7/sample/030000.jpg'></td></tr><td>030500.jpg<br>index: 60-th</td><td><img src='./assets/WGAN_label7/sample/030500.jpg'></td></tr><td>031000.jpg<br>index: 61-th</td><td><img src='./assets/WGAN_label7/sample/031000.jpg'></td></tr><td>031500.jpg<br>index: 62-th</td><td><img src='./assets/WGAN_label7/sample/031500.jpg'></td></tr><td>032000.jpg<br>index: 63-th</td><td><img src='./assets/WGAN_label7/sample/032000.jpg'></td></tr><td>032500.jpg<br>index: 64-th</td><td><img src='./assets/WGAN_label7/sample/032500.jpg'></td></tr><td>033000.jpg<br>index: 65-th</td><td><img src='./assets/WGAN_label7/sample/033000.jpg'></td></tr><td>033500.jpg<br>index: 66-th</td><td><img src='./assets/WGAN_label7/sample/033500.jpg'></td></tr><td>034000.jpg<br>index: 67-th</td><td><img src='./assets/WGAN_label7/sample/034000.jpg'></td></tr><td>034500.jpg<br>index: 68-th</td><td><img src='./assets/WGAN_label7/sample/034500.jpg'></td></tr><td>035000.jpg<br>index: 69-th</td><td><img src='./assets/WGAN_label7/sample/035000.jpg'></td></tr><td>035500.jpg<br>index: 70-th</td><td><img src='./assets/WGAN_label7/sample/035500.jpg'></td></tr><td>036000.jpg<br>index: 71-th</td><td><img src='./assets/WGAN_label7/sample/036000.jpg'></td></tr><td>036500.jpg<br>index: 72-th</td><td><img src='./assets/WGAN_label7/sample/036500.jpg'></td></tr><td>037000.jpg<br>index: 73-th</td><td><img src='./assets/WGAN_label7/sample/037000.jpg'></td></tr><td>037500.jpg<br>index: 74-th</td><td><img src='./assets/WGAN_label7/sample/037500.jpg'></td></tr><td>038000.jpg<br>index: 75-th</td><td><img src='./assets/WGAN_label7/sample/038000.jpg'></td></tr><td>038500.jpg<br>index: 76-th</td><td><img src='./assets/WGAN_label7/sample/038500.jpg'></td></tr><td>039000.jpg<br>index: 77-th</td><td><img src='./assets/WGAN_label7/sample/039000.jpg'></td></tr><td>039500.jpg<br>index: 78-th</td><td><img src='./assets/WGAN_label7/sample/039500.jpg'></td></tr>"
      ],
      "text/plain": [
       "<IPython.core.display.HTML object>"
      ]
     },
     "execution_count": 65,
     "metadata": {},
     "output_type": "execute_result"
    }
   ],
   "source": [
    "#%% show all images in html file\n",
    "\n",
    "# make file if not exist\n",
    "index_path = 'index.html'\n",
    "try: open(index_path,'x')\n",
    "except FileExistsError: pass\n",
    "\n",
    "#open file\n",
    "index = open(index_path, \"w\")\n",
    "index.write(\"<html><body><table><tr>\")\n",
    "index.write(\"<th>name</th><th>output</th></tr>\")\n",
    "\n",
    "# get fake image\n",
    "#path = os.path.join('.','assets','WGAN_label10','sample','*')\n",
    "#path = os.path.join('.','assets','GAN_label10','sample','*')\n",
    "path = os.path.join('.','assets','WGAN_label7','sample','*')\n",
    "data_paths = glob.glob(path)\n",
    "data_paths.sort(key=natural_keys)\n",
    "\n",
    "print('Processing image')\n",
    "print('Number: {}'.format(len(data_paths)))\n",
    "for i, data_path in enumerate(data_paths):\n",
    "    index.write(\"<td>%s<br>index: %s-th</td>\" % (os.path.split(data_path)[1], i))\n",
    "    index.write(\"<td><img src='%s'></td>\" % data_path)\n",
    "    index.write(\"</tr>\")\n",
    "index.close()\n",
    "\n",
    "# display html\n",
    "HTML(\"./index.html\")"
   ]
  },
  {
   "cell_type": "code",
   "execution_count": 1,
   "metadata": {
    "collapsed": true
   },
   "outputs": [],
   "source": []
  },
  {
   "cell_type": "code",
   "execution_count": 43,
   "metadata": {},
   "outputs": [],
   "source": [
    "path = os.path.join('.','assets','WGAN_label10','sample','*')\n",
    "#path = os.path.join('.','assets','WGAN_label7','sample','*')\n",
    "data_paths = glob.glob(path)\n",
    "data_paths.sort(key=natural_keys)"
   ]
  },
  {
   "cell_type": "code",
   "execution_count": 46,
   "metadata": {},
   "outputs": [],
   "source": [
    "def f(x):\n",
    "    data_path = data_paths[x]\n",
    "    img = scipy.misc.imread(data_path)\n",
    "    \n",
    "    k=2.5\n",
    "    plt.figure(figsize=[5*k,6*k])\n",
    "    fig = plt.imshow(img)\n",
    "    fig.axes.get_xaxis().set_visible(False)\n",
    "    fig.axes.get_yaxis().set_visible(False)\n",
    "    plt.show()"
   ]
  },
  {
   "cell_type": "code",
   "execution_count": 47,
   "metadata": {},
   "outputs": [
    {
     "data": {
      "application/vnd.jupyter.widget-view+json": {
       "model_id": "73c5643f43544f53a722b37c6a2978ec",
       "version_major": 2,
       "version_minor": 0
      },
      "text/plain": [
       "A Jupyter Widget"
      ]
     },
     "metadata": {},
     "output_type": "display_data"
    }
   ],
   "source": [
    "#%% show all images with scroller\n",
    "interact(f,x=(0,len(data_paths)-1));"
   ]
  },
  {
   "cell_type": "code",
   "execution_count": null,
   "metadata": {
    "collapsed": true
   },
   "outputs": [],
   "source": []
  }
 ],
 "metadata": {
  "kernelspec": {
   "display_name": "Python 3",
   "language": "python",
   "name": "python3"
  },
  "language_info": {
   "codemirror_mode": {
    "name": "ipython",
    "version": 3
   },
   "file_extension": ".py",
   "mimetype": "text/x-python",
   "name": "python",
   "nbconvert_exporter": "python",
   "pygments_lexer": "ipython3",
   "version": "3.5.4"
  }
 },
 "nbformat": 4,
 "nbformat_minor": 2
}
