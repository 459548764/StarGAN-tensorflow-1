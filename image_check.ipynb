{
 "cells": [
  {
   "cell_type": "code",
   "execution_count": null,
   "metadata": {
    "collapsed": true
   },
   "outputs": [],
   "source": [
    "import os\n",
    "import matplotlib.pyplot as plt\n",
    "import scipy.misc\n",
    "import glob\n",
    "import re\n",
    "from IPython.display import HTML\n",
    "from ipywidgets import interact, interactive, fixed, interact_manual\n",
    "import ipywidgets as widgets\n",
    "%matplotlib inline  "
   ]
  },
  {
   "cell_type": "code",
   "execution_count": null,
   "metadata": {
    "collapsed": true
   },
   "outputs": [],
   "source": [
    "def atoi(text):\n",
    "    return int(text) if text.isdigit() else text\n",
    "\n",
    "def natural_keys(text):\n",
    "    '''\n",
    "    alist.sort(key=natural_keys) sorts in human order\n",
    "    http://nedbatchelder.com/blog/200712/human_sorting.html\n",
    "    (See Toothy's implementation in the comments)\n",
    "    '''\n",
    "    return [ atoi(c) for c in re.split('(\\d+)', text) ]"
   ]
  },
  {
   "cell_type": "code",
   "execution_count": null,
   "metadata": {},
   "outputs": [],
   "source": [
    "#%% show all images in html file\n",
    "\n",
    "# make file if not exist\n",
    "index_path = 'index.html'\n",
    "try: open(index_path,'x')\n",
    "except FileExistsError: pass\n",
    "\n",
    "#open file\n",
    "index = open(index_path, \"w\")\n",
    "index.write(\"<html><body><table><tr>\")\n",
    "index.write(\"<th>name</th><th>output</th></tr>\")\n",
    "\n",
    "# get fake image\n",
    "#path = os.path.join('.','assets','WGAN_label10','sample','*')\n",
    "#path = os.path.join('.','assets','GAN_label10','sample','*')\n",
    "path = os.path.join('.','assets','WGAN_label7_img128','sample','*')\n",
    "data_paths = glob.glob(path)\n",
    "data_paths.sort(key=natural_keys)\n",
    "\n",
    "print('Processing image')\n",
    "print('Number: {}'.format(len(data_paths)))\n",
    "for i, data_path in enumerate(data_paths):\n",
    "    index.write(\"<td>%s<br>index: %s-th</td>\" % (os.path.split(data_path)[1], i))\n",
    "    index.write(\"<td><img src='%s'></td>\" % data_path)\n",
    "    index.write(\"</tr>\")\n",
    "index.close()\n",
    "\n",
    "# display html\n",
    "HTML(\"./index.html\")"
   ]
  },
  {
   "cell_type": "code",
   "execution_count": null,
   "metadata": {
    "collapsed": true
   },
   "outputs": [],
   "source": []
  },
  {
   "cell_type": "code",
   "execution_count": null,
   "metadata": {
    "collapsed": true
   },
   "outputs": [],
   "source": [
    "def f(x):\n",
    "    data_path = data_paths[x]\n",
    "    img = scipy.misc.imread(data_path)\n",
    "    \n",
    "    k=2\n",
    "    plt.figure(figsize=[5*k,6*k])\n",
    "    fig = plt.imshow(img)\n",
    "    fig.axes.get_xaxis().set_visible(False)\n",
    "    fig.axes.get_yaxis().set_visible(False)\n",
    "    plt.show()"
   ]
  },
  {
   "cell_type": "code",
   "execution_count": null,
   "metadata": {
    "collapsed": true
   },
   "outputs": [],
   "source": [
    "#path = os.path.join('.','assets','WGAN_label10','sample','*')\n",
    "path = os.path.join('.','assets','WGAN_label7_img128','test','*')\n",
    "data_paths = glob.glob(path)\n",
    "data_paths.sort(key=natural_keys)"
   ]
  },
  {
   "cell_type": "code",
   "execution_count": null,
   "metadata": {},
   "outputs": [],
   "source": [
    "#%% show all images with scroller\n",
    "interact(f,x=(0,len(data_paths)-1));"
   ]
  },
  {
   "cell_type": "code",
   "execution_count": null,
   "metadata": {
    "collapsed": true
   },
   "outputs": [],
   "source": []
  }
 ],
 "metadata": {
  "kernelspec": {
   "display_name": "Python 3",
   "language": "python",
   "name": "python3"
  },
  "language_info": {
   "codemirror_mode": {
    "name": "ipython",
    "version": 3
   },
   "file_extension": ".py",
   "mimetype": "text/x-python",
   "name": "python",
   "nbconvert_exporter": "python",
   "pygments_lexer": "ipython3",
   "version": "3.5.4"
  }
 },
 "nbformat": 4,
 "nbformat_minor": 2
}
